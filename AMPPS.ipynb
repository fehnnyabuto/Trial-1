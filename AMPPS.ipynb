{
 "cells": [
  {
   "cell_type": "code",
   "execution_count": 1,
   "id": "bd9544b0-61b8-4acb-b040-3477b68e257c",
   "metadata": {},
   "outputs": [],
   "source": [
    "import ipywidgets as widgets"
   ]
  },
  {
   "cell_type": "code",
   "execution_count": 2,
   "id": "58f37f5b-e2be-4be6-9b0f-088be76b845b",
   "metadata": {},
   "outputs": [],
   "source": [
    "from autocalc.autocalc import Var, undefined"
   ]
  },
  {
   "cell_type": "code",
   "execution_count": 3,
   "id": "fd733e3a-405f-496e-974f-a0b3567cbdd4",
   "metadata": {},
   "outputs": [],
   "source": [
    "from sklearn.svm import SVC, LinearSVC"
   ]
  },
  {
   "cell_type": "code",
   "execution_count": 4,
   "id": "2d136c55-c726-4380-a9ac-528d86e0a34f",
   "metadata": {},
   "outputs": [],
   "source": [
    "from sklearn.metrics import confusion_matrix, ConfusionMatrixDisplay"
   ]
  },
  {
   "cell_type": "code",
   "execution_count": 5,
   "id": "5c48f112-3321-4864-a2c2-10a222bd0ca2",
   "metadata": {},
   "outputs": [],
   "source": [
    "from sklearn.model_selection import train_test_split"
   ]
  },
  {
   "cell_type": "code",
   "execution_count": 6,
   "id": "002b5a85-1e7c-4b19-93a4-4f9ce0e6ee48",
   "metadata": {},
   "outputs": [],
   "source": [
    "import pandas as pd"
   ]
  },
  {
   "cell_type": "code",
   "execution_count": 7,
   "id": "35a4fcaa-ad70-42d2-9b0d-fb798b1b172b",
   "metadata": {},
   "outputs": [],
   "source": [
    "import matplotlib.pyplot as plt"
   ]
  },
  {
   "cell_type": "code",
   "execution_count": 9,
   "id": "42ae0bbb-8e95-4c8b-8f79-7c87af81a2bc",
   "metadata": {},
   "outputs": [],
   "source": [
    "model_parameter_box=widgets.Output(layout=widgets.Layout(width='33%', border='1px solid gray'))"
   ]
  },
  {
   "cell_type": "code",
   "execution_count": 10,
   "id": "3195cf13-ab0b-4ce2-a7f2-8e9efa67e533",
   "metadata": {},
   "outputs": [],
   "source": [
    "result_box=widgets.Output(layout={'width':'67%'})"
   ]
  },
  {
   "cell_type": "code",
   "execution_count": 11,
   "id": "2e974793-6747-48cf-85ce-9312cf79d460",
   "metadata": {},
   "outputs": [],
   "source": [
    "confusion_matrix_box=widgets.Output()\n",
    "prediction_box=widgets.Output()"
   ]
  },
  {
   "cell_type": "code",
   "execution_count": 12,
   "id": "a0a62fe9-6a5e-4b20-928a-463818d899b5",
   "metadata": {},
   "outputs": [],
   "source": [
    "Product_lbl=widgets.Label(\"Agricultural Product\")"
   ]
  },
  {
   "cell_type": "code",
   "execution_count": null,
   "id": "410456d6-3d27-40cf-b387-b26f60e16ab2",
   "metadata": {},
   "outputs": [],
   "source": [
    "display(Product_lbl)"
   ]
  },
  {
   "cell_type": "code",
   "execution_count": null,
   "id": "304e7977-f6ec-40d0-a8b8-fce69c20fa38",
   "metadata": {},
   "outputs": [],
   "source": []
  },
  {
   "cell_type": "code",
   "execution_count": null,
   "id": "c1a2a306-d39e-421b-b9ca-4150c08783c0",
   "metadata": {},
   "outputs": [],
   "source": []
  },
  {
   "cell_type": "code",
   "execution_count": null,
   "id": "1293fc14-6011-4955-9b64-60fd103a7b8f",
   "metadata": {},
   "outputs": [],
   "source": [
    "Town_lbl=widgets.Label(\"Town\")"
   ]
  },
  {
   "cell_type": "code",
   "execution_count": null,
   "id": "f1f98ce1-2ac0-4cfe-9611-d322a1c0612b",
   "metadata": {},
   "outputs": [],
   "source": [
    "display(Town_lbl)"
   ]
  },
  {
   "cell_type": "code",
   "execution_count": null,
   "id": "85e5f913-3a28-4070-b910-924e22258425",
   "metadata": {},
   "outputs": [],
   "source": []
  },
  {
   "cell_type": "code",
   "execution_count": null,
   "id": "1bbdb08f-3163-4d41-959b-86b230b24243",
   "metadata": {},
   "outputs": [],
   "source": []
  },
  {
   "cell_type": "code",
   "execution_count": null,
   "id": "588adec8-cfba-434b-9765-14c4526fa5e4",
   "metadata": {},
   "outputs": [],
   "source": [
    "Predict_btn=widgets.Button(description=\"Predict\")"
   ]
  },
  {
   "cell_type": "code",
   "execution_count": null,
   "id": "0585e9a6-66e0-4a26-a6ff-6b949aa5996f",
   "metadata": {},
   "outputs": [],
   "source": [
    "display(Predict_btn)"
   ]
  },
  {
   "cell_type": "code",
   "execution_count": null,
   "id": "b8a6e24d-5259-4c73-92a9-2bfb930d6a57",
   "metadata": {},
   "outputs": [],
   "source": [
    "Output_lbl=widgets.Label()"
   ]
  },
  {
   "cell_type": "code",
   "execution_count": null,
   "id": "bd0f6e36-1c45-4dd3-9e74-794724c41a0e",
   "metadata": {},
   "outputs": [],
   "source": []
  },
  {
   "cell_type": "code",
   "execution_count": 14,
   "id": "97d05808-56fc-47d1-97e5-1a117bdb290a",
   "metadata": {},
   "outputs": [
    {
     "ename": "NameError",
     "evalue": "name 'Predict_btn' is not defined",
     "output_type": "error",
     "traceback": [
      "\u001b[1;31m---------------------------------------------------------------------------\u001b[0m",
      "\u001b[1;31mNameError\u001b[0m                                 Traceback (most recent call last)",
      "\u001b[1;32m~\\AppData\\Local\\Temp\\ipykernel_9068\\3141296985.py\u001b[0m in \u001b[0;36m<module>\u001b[1;34m\u001b[0m\n\u001b[1;32m----> 1\u001b[1;33m \u001b[0mPredict_btn\u001b[0m\u001b[1;33m.\u001b[0m\u001b[0mon_click\u001b[0m\u001b[1;33m(\u001b[0m\u001b[0mpredict\u001b[0m\u001b[1;33m)\u001b[0m\u001b[1;33m\u001b[0m\u001b[1;33m\u001b[0m\u001b[0m\n\u001b[0m",
      "\u001b[1;31mNameError\u001b[0m: name 'Predict_btn' is not defined"
     ]
    }
   ],
   "source": []
  },
  {
   "cell_type": "code",
   "execution_count": null,
   "id": "95768d1a-369f-4b90-b910-b02c51d143e8",
   "metadata": {},
   "outputs": [],
   "source": []
  }
 ],
 "metadata": {
  "kernelspec": {
   "display_name": "Python 3 (ipykernel)",
   "language": "python",
   "name": "python3"
  },
  "language_info": {
   "codemirror_mode": {
    "name": "ipython",
    "version": 3
   },
   "file_extension": ".py",
   "mimetype": "text/x-python",
   "name": "python",
   "nbconvert_exporter": "python",
   "pygments_lexer": "ipython3",
   "version": "3.9.13"
  }
 },
 "nbformat": 4,
 "nbformat_minor": 5
}
